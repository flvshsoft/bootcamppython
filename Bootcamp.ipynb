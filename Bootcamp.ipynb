{
  "nbformat": 4,
  "nbformat_minor": 0,
  "metadata": {
    "colab": {
      "provenance": []
    },
    "kernelspec": {
      "name": "python3",
      "display_name": "Python 3"
    },
    "language_info": {
      "name": "python"
    }
  },
  "cells": [
    {
      "cell_type": "code",
      "execution_count": 1,
      "metadata": {
        "id": "wIfVUZPDP0WA",
        "colab": {
          "base_uri": "https://localhost:8080/"
        },
        "outputId": "67431d53-b3ed-48f0-9401-8affbb4eae56"
      },
      "outputs": [
        {
          "output_type": "stream",
          "name": "stdout",
          "text": [
            "Hello World Bootcamp\n"
          ]
        }
      ],
      "source": [
        "print(\"Hello World Bootcamp\")"
      ]
    },
    {
      "cell_type": "code",
      "source": [
        "angka = 10\n",
        "string = \"Budi\"\n",
        "nama = \"Budi Saputri\"\n",
        "jk = \"Laki-Laki\"\n",
        "\n",
        "print(angka)\n",
        "print(string)"
      ],
      "metadata": {
        "colab": {
          "base_uri": "https://localhost:8080/"
        },
        "id": "LjZ4BI3Rfb77",
        "outputId": "d3879fce-248c-4231-bebd-bddcd4e9c16c"
      },
      "execution_count": null,
      "outputs": [
        {
          "output_type": "stream",
          "name": "stdout",
          "text": [
            "10\n",
            "Budi\n"
          ]
        }
      ]
    },
    {
      "cell_type": "code",
      "source": [
        "print(nama, jk)"
      ],
      "metadata": {
        "colab": {
          "base_uri": "https://localhost:8080/"
        },
        "id": "p70DvWbwfsI_",
        "outputId": "5431a7c3-ed86-4648-d549-91fe7d75c338"
      },
      "execution_count": null,
      "outputs": [
        {
          "output_type": "stream",
          "name": "stdout",
          "text": [
            "Budi Laki-Laki\n"
          ]
        }
      ]
    },
    {
      "cell_type": "code",
      "source": [
        "print('Nama Lengkap Anda :', nama, '(Full)')\n",
        "print('Jenis Kelamin :', jk)"
      ],
      "metadata": {
        "colab": {
          "base_uri": "https://localhost:8080/"
        },
        "id": "rw3OgfMJfvwr",
        "outputId": "fd525641-89c2-424e-c060-e383ee87bb0a"
      },
      "execution_count": null,
      "outputs": [
        {
          "output_type": "stream",
          "name": "stdout",
          "text": [
            "Nama Lengkap Anda : Budi Saputri (Full)\n",
            "Jenis Kelamin : Laki-Laki\n"
          ]
        }
      ]
    },
    {
      "cell_type": "code",
      "source": [
        "# Operasi Matematika\n",
        "# Luas persegi panjang dengan rumus p x l, maka\n",
        "Luas = 3 * 4\n",
        "print(Luas)"
      ],
      "metadata": {
        "colab": {
          "base_uri": "https://localhost:8080/"
        },
        "id": "3YXykVxzgrhY",
        "outputId": "af44f8f1-dc82-4b22-eb6e-274768267a60"
      },
      "execution_count": null,
      "outputs": [
        {
          "output_type": "stream",
          "name": "stdout",
          "text": [
            "12\n"
          ]
        }
      ]
    },
    {
      "cell_type": "code",
      "source": [
        "# Operasi Matematika\n",
        "panjang = 10\n",
        "lebar = 6\n",
        "# Dengan variabel\n",
        "Luas = panjang * lebar\n",
        "print(Luas)"
      ],
      "metadata": {
        "colab": {
          "base_uri": "https://localhost:8080/"
        },
        "id": "Mhi7aJj8g8Qw",
        "outputId": "d3c5e1e6-5ca4-4091-dc38-25027144aaa0"
      },
      "execution_count": null,
      "outputs": [
        {
          "output_type": "stream",
          "name": "stdout",
          "text": [
            "60\n"
          ]
        }
      ]
    },
    {
      "cell_type": "code",
      "source": [
        "#penjumlahan\n",
        "print('Penjumlahan')\n",
        "print(2+3)\n",
        "print(4+8)\n",
        "print()\n",
        "\n",
        "# Pengurangan\n",
        "print('Pengurangan')\n",
        "print(9-6)\n",
        "print(6-8)\n",
        "print()\n",
        "\n",
        "# Perkalian\n",
        "print('Perkalian')\n",
        "print(4*7)\n",
        "print(3*9)\n",
        "print()\n",
        "\n",
        "# Pembagian\n",
        "print('Pembagian')\n",
        "print(8/2)\n",
        "print(9/2)\n",
        "print()"
      ],
      "metadata": {
        "colab": {
          "base_uri": "https://localhost:8080/"
        },
        "id": "wadEoiGPhGKY",
        "outputId": "0b333bb8-7030-4917-b415-989024883f91"
      },
      "execution_count": null,
      "outputs": [
        {
          "output_type": "stream",
          "name": "stdout",
          "text": [
            "Penjumlahan\n",
            "5\n",
            "12\n",
            "\n",
            "Pengurangan\n",
            "3\n",
            "-2\n",
            "\n",
            "Perkalian\n",
            "28\n",
            "27\n",
            "\n",
            "Pembagian\n",
            "4.0\n",
            "4.5\n",
            "\n"
          ]
        }
      ]
    },
    {
      "cell_type": "markdown",
      "source": [
        "Method / Function"
      ],
      "metadata": {
        "id": "0rykYBE6SLjx"
      }
    },
    {
      "cell_type": "code",
      "source": [
        "def luasPersegiPanjang(p, l):\n",
        "  Luas = p * l\n",
        "  return Luas"
      ],
      "metadata": {
        "id": "yxG7Xn-J3mEL"
      },
      "execution_count": null,
      "outputs": []
    },
    {
      "cell_type": "code",
      "source": [
        "print(luasPersegiPanjang(4, 8))\n",
        "print(luasPersegiPanjang(6, 2))\n",
        "print(luasPersegiPanjang(3, 5))"
      ],
      "metadata": {
        "colab": {
          "base_uri": "https://localhost:8080/"
        },
        "id": "J1iciwcv31jA",
        "outputId": "5a34118d-cd54-4e49-f2bc-b73f7193c66f"
      },
      "execution_count": null,
      "outputs": [
        {
          "output_type": "stream",
          "name": "stdout",
          "text": [
            "32\n",
            "12\n",
            "15\n"
          ]
        }
      ]
    },
    {
      "cell_type": "code",
      "source": [
        "# Latihan\n",
        "# Buatkan fungsi menghitung segitiga"
      ],
      "metadata": {
        "id": "S4AH9fArSRgQ"
      },
      "execution_count": null,
      "outputs": []
    },
    {
      "cell_type": "markdown",
      "source": [
        "Library"
      ],
      "metadata": {
        "id": "PmDwUghJUj4a"
      }
    },
    {
      "cell_type": "code",
      "source": [
        "import numpy\n",
        "\n",
        "arr = numpy.array([1, 2, 3, 4, 5])\n",
        "\n",
        "print(arr)"
      ],
      "metadata": {
        "colab": {
          "base_uri": "https://localhost:8080/"
        },
        "id": "ChsNxuE66ahV",
        "outputId": "f8068488-513e-4c24-9bdf-8cb3c9f5b587"
      },
      "execution_count": null,
      "outputs": [
        {
          "output_type": "stream",
          "name": "stdout",
          "text": [
            "[1 2 3 4 5]\n"
          ]
        }
      ]
    },
    {
      "cell_type": "markdown",
      "source": [
        "Percabangan (IF)"
      ],
      "metadata": {
        "id": "hT1lcU__Up17"
      }
    },
    {
      "cell_type": "code",
      "source": [
        "if(True):\n",
        "  print(\"Oke\")"
      ],
      "metadata": {
        "colab": {
          "base_uri": "https://localhost:8080/"
        },
        "id": "1qxYAOq6UsF1",
        "outputId": "61605b80-ad8d-4bf0-a386-c3e949694938"
      },
      "execution_count": null,
      "outputs": [
        {
          "output_type": "stream",
          "name": "stdout",
          "text": [
            "Oke\n"
          ]
        }
      ]
    },
    {
      "cell_type": "code",
      "source": [
        "if(False):\n",
        "  print(\"Oke\")"
      ],
      "metadata": {
        "id": "AKqBhzH9VimH"
      },
      "execution_count": null,
      "outputs": []
    },
    {
      "cell_type": "code",
      "source": [
        "angka = 10\n",
        "if(angka > 0):\n",
        "  print(\"Oke\")"
      ],
      "metadata": {
        "colab": {
          "base_uri": "https://localhost:8080/"
        },
        "id": "WkNRAiBKVqjV",
        "outputId": "1f41b7c5-10fc-4f04-d2ff-ace23dd2f869"
      },
      "execution_count": null,
      "outputs": [
        {
          "output_type": "stream",
          "name": "stdout",
          "text": [
            "Oke\n"
          ]
        }
      ]
    },
    {
      "cell_type": "code",
      "source": [
        "angka = 10\n",
        "if(angka > 20):\n",
        "  print(\"Oke\")"
      ],
      "metadata": {
        "id": "ccNeTijqV-RS"
      },
      "execution_count": null,
      "outputs": []
    },
    {
      "cell_type": "code",
      "source": [
        "angka = 10\n",
        "if(angka > 0):\n",
        "  print(\"Oke\")\n",
        "else:\n",
        "  print(\"False\")"
      ],
      "metadata": {
        "colab": {
          "base_uri": "https://localhost:8080/"
        },
        "id": "fb6N3gEhXEK9",
        "outputId": "9f3c6b7b-9093-455b-b178-c602eedf2c2b"
      },
      "execution_count": null,
      "outputs": [
        {
          "output_type": "stream",
          "name": "stdout",
          "text": [
            "Oke\n"
          ]
        }
      ]
    },
    {
      "cell_type": "code",
      "source": [
        "angka = 10\n",
        "if(angka > 10):\n",
        "  print(\"Oke\")\n",
        "else:\n",
        "  print(\"False\")"
      ],
      "metadata": {
        "colab": {
          "base_uri": "https://localhost:8080/"
        },
        "id": "qSOSbDQoXLWE",
        "outputId": "6fecd09d-b772-410c-bcfe-7325bb3bd81a"
      },
      "execution_count": null,
      "outputs": [
        {
          "output_type": "stream",
          "name": "stdout",
          "text": [
            "False\n"
          ]
        }
      ]
    },
    {
      "cell_type": "code",
      "source": [
        "angka = 5\n",
        "if(angka > 10) and (angka < 100):\n",
        "  print(\"Bilangan Puluhan\")\n",
        "else:\n",
        "  print(\"Satuan\")"
      ],
      "metadata": {
        "colab": {
          "base_uri": "https://localhost:8080/"
        },
        "id": "NyBlAVrhXMyc",
        "outputId": "6e889c9d-f2c3-4f14-d03d-7cd16967fe75"
      },
      "execution_count": null,
      "outputs": [
        {
          "output_type": "stream",
          "name": "stdout",
          "text": [
            "Satuan\n"
          ]
        }
      ]
    },
    {
      "cell_type": "code",
      "source": [
        "angka = 50\n",
        "if(angka > 10) and (angka < 100):\n",
        "  print(\"Bilangan Puluhan\")\n",
        "else:\n",
        "  print(\"Satuan\")"
      ],
      "metadata": {
        "id": "zpbdv0ZBX2W7",
        "colab": {
          "base_uri": "https://localhost:8080/"
        },
        "outputId": "8a695836-a69f-4531-94ea-94b2d3722228"
      },
      "execution_count": null,
      "outputs": [
        {
          "output_type": "stream",
          "name": "stdout",
          "text": [
            "Bilangan Puluhan\n"
          ]
        }
      ]
    },
    {
      "cell_type": "code",
      "source": [
        "angka = 500\n",
        "if(angka < 10):\n",
        "  print(\"Bilangan Satuan\")\n",
        "elif(angka > 10) and (angka < 100):\n",
        "  print(\"Bilangan Puluhan\")\n",
        "elif(angka > 100) and (angka < 1000):\n",
        "  print(\"Bilangan Ratusan\")\n",
        "else:\n",
        "  print(\"Bilangan Ribuan\")"
      ],
      "metadata": {
        "colab": {
          "base_uri": "https://localhost:8080/"
        },
        "id": "o-YwbSohpcDv",
        "outputId": "f771e805-a15e-4a76-9b50-da022b0a3c89"
      },
      "execution_count": null,
      "outputs": [
        {
          "output_type": "stream",
          "name": "stdout",
          "text": [
            "Bilangan Ratusan\n"
          ]
        }
      ]
    },
    {
      "cell_type": "code",
      "source": [
        "# Latihan\n",
        "# Buatlah program untuk merubah nilai angka ke nilai huruf\n",
        "# 80 - 100  = A\n",
        "# 70 - 79   = B\n",
        "# 60 - 69   = C\n",
        "# 50 - 59   = D\n",
        "# 0  < 50   = E"
      ],
      "metadata": {
        "id": "p5pYSzdfqC7L"
      },
      "execution_count": null,
      "outputs": []
    },
    {
      "cell_type": "markdown",
      "source": [
        "Perulangan / Looping"
      ],
      "metadata": {
        "id": "CdFvuqUYql68"
      }
    },
    {
      "cell_type": "code",
      "source": [
        "for row in range(5):\n",
        "  print(\"Hello World\")"
      ],
      "metadata": {
        "colab": {
          "base_uri": "https://localhost:8080/"
        },
        "id": "66-7iwPnqG51",
        "outputId": "315b248a-4933-4111-861e-0b70e6317c80"
      },
      "execution_count": null,
      "outputs": [
        {
          "output_type": "stream",
          "name": "stdout",
          "text": [
            "Hello World\n",
            "Hello World\n",
            "Hello World\n",
            "Hello World\n",
            "Hello World\n"
          ]
        }
      ]
    },
    {
      "cell_type": "code",
      "source": [
        "ulang = 3\n",
        "for baris in range(ulang):\n",
        "  print(\"Hello World\")"
      ],
      "metadata": {
        "colab": {
          "base_uri": "https://localhost:8080/"
        },
        "id": "S_JbQiwHqr5J",
        "outputId": "e16a65a3-bd4d-402f-ddde-d5908f0dc2ea"
      },
      "execution_count": null,
      "outputs": [
        {
          "output_type": "stream",
          "name": "stdout",
          "text": [
            "Hello World\n",
            "Hello World\n",
            "Hello World\n"
          ]
        }
      ]
    },
    {
      "cell_type": "code",
      "source": [
        "ulang = 3\n",
        "for baris in range(ulang):\n",
        "  print(\"Hello World -\", baris)"
      ],
      "metadata": {
        "colab": {
          "base_uri": "https://localhost:8080/"
        },
        "id": "GvYzMQfGq6xN",
        "outputId": "d508018c-f97e-46cb-9496-ad1c41afcc9a"
      },
      "execution_count": null,
      "outputs": [
        {
          "output_type": "stream",
          "name": "stdout",
          "text": [
            "Hello World - 0\n",
            "Hello World - 1\n",
            "Hello World - 2\n"
          ]
        }
      ]
    },
    {
      "cell_type": "code",
      "source": [
        "ulang = 3\n",
        "for baris in range(ulang):\n",
        "  print(\"Hello World -\", baris + 1)"
      ],
      "metadata": {
        "colab": {
          "base_uri": "https://localhost:8080/"
        },
        "id": "8KZKljF-rAFa",
        "outputId": "1cc14691-79b2-4a4d-c360-2f2df0dcd362"
      },
      "execution_count": null,
      "outputs": [
        {
          "output_type": "stream",
          "name": "stdout",
          "text": [
            "Hello World - 1\n",
            "Hello World - 2\n",
            "Hello World - 3\n"
          ]
        }
      ]
    },
    {
      "cell_type": "code",
      "source": [
        "mobil = [\"Avanza\", \"Pajero\", \"Xpander\"]\n",
        "\n",
        "for row in mobil:\n",
        "  print(row)"
      ],
      "metadata": {
        "colab": {
          "base_uri": "https://localhost:8080/"
        },
        "id": "K3K9r7fhrGFM",
        "outputId": "b238006e-6d88-4292-d2fb-0012015b0867"
      },
      "execution_count": null,
      "outputs": [
        {
          "output_type": "stream",
          "name": "stdout",
          "text": [
            "Avanza\n",
            "Pajero\n",
            "Xpander\n"
          ]
        }
      ]
    },
    {
      "cell_type": "code",
      "source": [
        "# Latihan\n",
        "\n",
        "# Buatkan ouputan menjadi seperti dibawah, tanpa merubah variabel array mobil\n",
        "\n",
        "# 1. Mobil Avanza\n",
        "# 2. Mobil Pajero\n",
        "# 3. Mobil Xpander"
      ],
      "metadata": {
        "id": "xBLf3c-QrU6N"
      },
      "execution_count": null,
      "outputs": []
    },
    {
      "cell_type": "code",
      "source": [
        "mahasiswa = [\"Ade\", \"Budi\", \"Cica\", \"Danur\", \"Eza\"]\n",
        "for row in mahasiswa:\n",
        "  print(row)"
      ],
      "metadata": {
        "colab": {
          "base_uri": "https://localhost:8080/"
        },
        "id": "UAX8r8Cfrr9i",
        "outputId": "dd59c359-c193-4bfc-dd98-40ff61746ab6"
      },
      "execution_count": null,
      "outputs": [
        {
          "output_type": "stream",
          "name": "stdout",
          "text": [
            "Ade\n",
            "Budi\n",
            "Cica\n",
            "Danur\n",
            "Eza\n"
          ]
        }
      ]
    },
    {
      "cell_type": "code",
      "source": [
        "mahasiswa = []\n",
        "\n",
        "baru = [\"Ade\", \"L\", \"Teknik Informatika\"]\n",
        "mahasiswa.append(baru)\n",
        "\n",
        "baru = [\"Budi\", \"L\", \"Teknik Informatika\"]\n",
        "mahasiswa.append(baru)\n",
        "\n",
        "baru = [\"Cica\", \"P\", \"Teknik Informatika\"]\n",
        "mahasiswa.append(baru)\n",
        "\n",
        "print(mahasiswa)"
      ],
      "metadata": {
        "colab": {
          "base_uri": "https://localhost:8080/"
        },
        "id": "17S31h32r9Cv",
        "outputId": "ac6ec03c-9310-43e1-9811-0e1e1642a173"
      },
      "execution_count": null,
      "outputs": [
        {
          "output_type": "stream",
          "name": "stdout",
          "text": [
            "[['Ade', 'L', 'Teknik Informatika'], ['Budi', 'L', 'Teknik Informatika'], ['Cica', 'P', 'Teknik Informatika']]\n"
          ]
        }
      ]
    },
    {
      "cell_type": "code",
      "source": [
        "mahasiswa = []\n",
        "\n",
        "baru = [\"Ade\", \"L\", \"Teknik Informatika\"]\n",
        "mahasiswa.append(baru)\n",
        "\n",
        "baru = [\"Budi\", \"L\", \"Teknik Informatika\"]\n",
        "mahasiswa.append(baru)\n",
        "\n",
        "baru = [\"Cica\", \"P\", \"Teknik Informatika\"]\n",
        "mahasiswa.append(baru)\n",
        "\n",
        "print(mahasiswa[1])\n",
        "\n",
        "# Latihan\n",
        "# Munculkan semua data Ade"
      ],
      "metadata": {
        "colab": {
          "base_uri": "https://localhost:8080/"
        },
        "id": "bTb8eGkqsUBW",
        "outputId": "031331af-a717-4ab7-b35e-483cc6bc577c"
      },
      "execution_count": null,
      "outputs": [
        {
          "output_type": "stream",
          "name": "stdout",
          "text": [
            "['Budi', 'L', 'Teknik Informatika']\n"
          ]
        }
      ]
    },
    {
      "cell_type": "code",
      "source": [
        "mahasiswa = []\n",
        "\n",
        "baru = [\"Ade\", \"L\", \"Teknik Informatika\"]\n",
        "mahasiswa.append(baru)\n",
        "\n",
        "baru = [\"Budi\", \"L\", \"Teknik Informatika\"]\n",
        "mahasiswa.append(baru)\n",
        "\n",
        "baru = [\"Cica\", \"P\", \"Teknik Informatika\"]\n",
        "mahasiswa.append(baru)\n",
        "\n",
        "print(mahasiswa[1][1])\n",
        "\n",
        "# Latihan\n",
        "# Munculkan nama Ade"
      ],
      "metadata": {
        "colab": {
          "base_uri": "https://localhost:8080/"
        },
        "id": "LzaS3hBssZpu",
        "outputId": "b63ead3b-1c42-47a0-df57-3204dacb1a39"
      },
      "execution_count": null,
      "outputs": [
        {
          "output_type": "stream",
          "name": "stdout",
          "text": [
            "L\n"
          ]
        }
      ]
    },
    {
      "cell_type": "code",
      "source": [
        "mahasiswa = []\n",
        "\n",
        "baru = [\"Ade\", \"L\", \"Teknik Informatika\"]\n",
        "mahasiswa.append(baru)\n",
        "\n",
        "baru = [\"Budi\", \"L\", \"Teknik Informatika\"]\n",
        "mahasiswa.append(baru)\n",
        "\n",
        "baru = [\"Cica\", \"P\", \"Teknik Informatika\"]\n",
        "mahasiswa.append(baru)\n",
        "\n",
        "for row in mahasiswa:\n",
        "  print(row)"
      ],
      "metadata": {
        "colab": {
          "base_uri": "https://localhost:8080/"
        },
        "id": "kHZNghrjsbly",
        "outputId": "04332358-2dfc-44d2-f1f4-652e201ddbba"
      },
      "execution_count": null,
      "outputs": [
        {
          "output_type": "stream",
          "name": "stdout",
          "text": [
            "['Ade', 'L', 'Teknik Informatika']\n",
            "['Budi', 'L', 'Teknik Informatika']\n",
            "['Cica', 'P', 'Teknik Informatika']\n"
          ]
        }
      ]
    },
    {
      "cell_type": "code",
      "source": [
        "mahasiswa = []\n",
        "\n",
        "baru = [\"Ade\", \"L\", \"Teknik Informatika\"]\n",
        "mahasiswa.append(baru)\n",
        "\n",
        "baru = [\"Budi\", \"L\", \"Teknik Informatika\"]\n",
        "mahasiswa.append(baru)\n",
        "\n",
        "baru = [\"Cica\", \"P\", \"Teknik Informatika\"]\n",
        "mahasiswa.append(baru)\n",
        "\n",
        "for row in mahasiswa:\n",
        "  print(\"Nama \\t\\t:\", row[0])\n",
        "  print(\"Jenis Kelamin \\t:\", row[1])\n",
        "  print(\"Jurusan \\t:\", row[2], \"\\n\")"
      ],
      "metadata": {
        "colab": {
          "base_uri": "https://localhost:8080/"
        },
        "id": "_9nt60UMsxsx",
        "outputId": "a5ba06ef-dcd7-40bd-80f6-f1b8f72b524f"
      },
      "execution_count": null,
      "outputs": [
        {
          "output_type": "stream",
          "name": "stdout",
          "text": [
            "Nama \t\t: Ade\n",
            "Jenis Kelamin \t: L\n",
            "Jurusan \t: Teknik Informatika \n",
            "\n",
            "Nama \t\t: Budi\n",
            "Jenis Kelamin \t: L\n",
            "Jurusan \t: Teknik Informatika \n",
            "\n",
            "Nama \t\t: Cica\n",
            "Jenis Kelamin \t: P\n",
            "Jurusan \t: Teknik Informatika \n",
            "\n"
          ]
        }
      ]
    },
    {
      "cell_type": "markdown",
      "source": [
        "Artificial Inteligent"
      ],
      "metadata": {
        "id": "ZPLbU2zataz3"
      }
    },
    {
      "cell_type": "code",
      "source": [
        "import re\n",
        "\n",
        "from bs4 import BeautifulSoup\n",
        "from nltk.tokenize import WordPunctTokenizer\n",
        "\n",
        "\n",
        "tok = WordPunctTokenizer()\n",
        "pat1 = r'@[A-Za-z0-9_]+' #menghilangkat username jika twitter\n",
        "pat2 = r'https?://[^ ]+' #menghilangkan situs website\n",
        "combined_pat = r'|'.join((pat1, pat2)) #join pat1 dan pat 2\n",
        "www_pat = r'www.[^ ]+' #menhilangkan situs website\n",
        "\n",
        "#set_stopword yang di deskripsikan sendiri\n",
        "# stopword_user = set(pd.read_csv('stopword_usr.txt', sep='\\n', header=0).stopword)"
      ],
      "metadata": {
        "id": "2ZMmzgAIvrVU"
      },
      "execution_count": null,
      "outputs": []
    },
    {
      "cell_type": "code",
      "source": [
        "teks='''hahaha apakah SAYA ingin pergi pada tanggal 15 bulan februari besok ? tidak karena\n",
        "hari kemarin @twitter suka main https://www.twitter.com'''"
      ],
      "metadata": {
        "id": "OkdsIU_Xs2PG"
      },
      "execution_count": null,
      "outputs": []
    },
    {
      "cell_type": "code",
      "source": [
        "def proses_teks(teks):\n",
        "    soup = BeautifulSoup(teks, 'lxml')\n",
        "    souped = soup.get_text()\n",
        "    try:\n",
        "        teks = souped.decode(\"utf-8-sig\").replace(u\"\\ufffd\", \"?\")\n",
        "    except:\n",
        "        teks = souped\n",
        "    teks_bersih= re.sub(\"[^a-zA-Z0-9]\", \" \",(re.sub(www_pat, '', re.sub(combined_pat, '', teks)).lower()))\n",
        "    # teks_bersih= ' '.join([word for word in teks_bersih.split() if word not in stopword_user])\n",
        "    return (\" \".join([x for x in tok.tokenize(teks_bersih) if len(x) > 1])).strip()"
      ],
      "metadata": {
        "id": "hoG8nZ_Vvcs_"
      },
      "execution_count": null,
      "outputs": []
    },
    {
      "cell_type": "code",
      "source": [
        "proses_teks(teks)"
      ],
      "metadata": {
        "colab": {
          "base_uri": "https://localhost:8080/",
          "height": 90
        },
        "id": "YrgtrPupvdV0",
        "outputId": "4e31fe64-c1c4-4490-b1e7-0c5b8dbd251d"
      },
      "execution_count": null,
      "outputs": [
        {
          "output_type": "stream",
          "name": "stderr",
          "text": [
            "<ipython-input-5-5c2be90acbe3>:2: MarkupResemblesLocatorWarning: The input looks more like a filename than markup. You may want to open this file and pass the filehandle into Beautiful Soup.\n",
            "  soup = BeautifulSoup(teks, 'lxml')\n"
          ]
        },
        {
          "output_type": "execute_result",
          "data": {
            "text/plain": [
              "'hahaha apakah saya ingin pergi pada tanggal 15 bulan februari besok tidak karena hari kemarin suka main'"
            ],
            "application/vnd.google.colaboratory.intrinsic+json": {
              "type": "string"
            }
          },
          "metadata": {},
          "execution_count": 6
        }
      ]
    },
    {
      "cell_type": "markdown",
      "source": [
        "Flask - Python Web Base"
      ],
      "metadata": {
        "id": "3bZ_LhgRO6Yz"
      }
    },
    {
      "cell_type": "code",
      "source": [
        "from google.colab import drive\n",
        "drive.mount('/content/drive', force_remount=True)\n",
        "\n",
        "# !mkdir -p /drive\n",
        "# #umount /drive\n",
        "# !mount --bind /content/drive/My\\ Drive /drive\n",
        "# !mkdir -p /drive/ngrok-ssh\n",
        "# !mkdir -p ~/.ssh"
      ],
      "metadata": {
        "colab": {
          "base_uri": "https://localhost:8080/"
        },
        "id": "7A81nDmUMcPP",
        "outputId": "42ec9928-1d00-4bc8-cc9d-cd93d8a73803"
      },
      "execution_count": 12,
      "outputs": [
        {
          "output_type": "stream",
          "name": "stdout",
          "text": [
            "Mounted at /content/drive\n",
            "mkdir: cannot stat ‘/drive’: Transport endpoint is not connected\n"
          ]
        }
      ]
    },
    {
      "cell_type": "code",
      "source": [
        "from google.colab.output import eval_js\n",
        "print(eval_js(\"google.colab.kernel.proxyPort(5000)\"))"
      ],
      "metadata": {
        "colab": {
          "base_uri": "https://localhost:8080/",
          "height": 34
        },
        "id": "BEpC-2NEOThN",
        "outputId": "a6a71c5b-a1eb-40b2-aeb0-c19093dac837"
      },
      "execution_count": 17,
      "outputs": [
        {
          "output_type": "stream",
          "name": "stdout",
          "text": [
            "https://p2ubgos29yd-496ff2e9c6d22116-5000-colab.googleusercontent.com/\n"
          ]
        }
      ]
    },
    {
      "cell_type": "code",
      "source": [
        "from flask import Flask, render_template, request\n",
        "app = Flask(__name__)\n",
        "\n",
        "@app.route(\"/\")\n",
        "def home():\n",
        "    return \"Hello World Bootcamp by Flashsoft Indonesia\"\n",
        "\n",
        "if __name__ == \"__main__\":\n",
        "    app.run()"
      ],
      "metadata": {
        "colab": {
          "base_uri": "https://localhost:8080/"
        },
        "id": "fdfmvXBgOYUw",
        "outputId": "e0bbf720-9704-42a2-ff9f-bab79baae5fd"
      },
      "execution_count": 19,
      "outputs": [
        {
          "output_type": "stream",
          "name": "stdout",
          "text": [
            " * Serving Flask app '__main__'\n",
            " * Debug mode: off\n"
          ]
        },
        {
          "output_type": "stream",
          "name": "stderr",
          "text": [
            "INFO:werkzeug:\u001b[31m\u001b[1mWARNING: This is a development server. Do not use it in a production deployment. Use a production WSGI server instead.\u001b[0m\n",
            " * Running on http://127.0.0.1:5000\n",
            "INFO:werkzeug:\u001b[33mPress CTRL+C to quit\u001b[0m\n",
            "INFO:werkzeug:127.0.0.1 - - [02/Sep/2023 09:29:40] \"GET / HTTP/1.1\" 200 -\n",
            "INFO:werkzeug:127.0.0.1 - - [02/Sep/2023 09:29:41] \"\u001b[33mGET /favicon.ico HTTP/1.1\u001b[0m\" 404 -\n",
            "INFO:werkzeug:127.0.0.1 - - [02/Sep/2023 09:30:36] \"GET / HTTP/1.1\" 200 -\n",
            "INFO:werkzeug:127.0.0.1 - - [02/Sep/2023 09:30:37] \"\u001b[33mGET /favicon.ico HTTP/1.1\u001b[0m\" 404 -\n",
            "INFO:werkzeug:127.0.0.1 - - [02/Sep/2023 09:30:45] \"GET / HTTP/1.1\" 200 -\n",
            "INFO:werkzeug:127.0.0.1 - - [02/Sep/2023 09:30:45] \"\u001b[33mGET /favicon.ico HTTP/1.1\u001b[0m\" 404 -\n",
            "INFO:werkzeug:127.0.0.1 - - [02/Sep/2023 09:30:46] \"GET / HTTP/1.1\" 200 -\n",
            "INFO:werkzeug:127.0.0.1 - - [02/Sep/2023 09:30:47] \"\u001b[33mGET /favicon.ico HTTP/1.1\u001b[0m\" 404 -\n"
          ]
        }
      ]
    },
    {
      "cell_type": "code",
      "source": [],
      "metadata": {
        "id": "AdjWsV77vfeW"
      },
      "execution_count": null,
      "outputs": []
    }
  ]
}